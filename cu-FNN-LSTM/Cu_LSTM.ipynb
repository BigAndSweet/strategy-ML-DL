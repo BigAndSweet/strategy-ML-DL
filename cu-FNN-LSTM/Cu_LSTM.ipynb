{
 "cells": [
  {
   "cell_type": "code",
   "execution_count": 1,
   "metadata": {},
   "outputs": [],
   "source": [
    "import pandas as pd\n",
    "import numpy as np\n",
    "from warnings import filterwarnings\n",
    "filterwarnings('ignore')\n",
    "\n",
    "import matplotlib.pyplot as plt"
   ]
  },
  {
   "cell_type": "code",
   "execution_count": 2,
   "metadata": {},
   "outputs": [
    {
     "name": "stdout",
     "output_type": "stream",
     "text": [
      "<class 'pandas.io.pytables.HDFStore'>\n",
      "File path: E:/data/futures.h5\n",
      "/basic                   frame        (shape->[37,11])                             \n",
      "/daily_price             [invalid_HDFStore node: 'NoneType' object is not iterable]\n",
      "/daily_price             frame        (shape->[52303,16])                          \n",
      "/factors                 frame        (shape->[52291,19])                          \n",
      "/factors2                frame        (shape->[621,2])                             \n",
      "/logistic                frame        (shape->[52303,7])                           \n",
      "/quote                   frame        (shape->[1121,2])                            \n",
      "/randomforest            frame        (shape->[921,2])                             \n",
      "/support                                                                           \n"
     ]
    }
   ],
   "source": [
    "with pd.HDFStore('E:/data/futures.h5') as store:\n",
    "        print(store.info())\n",
    "        factors = store['factors2']"
   ]
  },
  {
   "cell_type": "code",
   "execution_count": 3,
   "metadata": {},
   "outputs": [],
   "source": [
    "cu = factors.xs('CU', level=1)\n",
    "select = ['high_low',\n",
    "          'high_close',\n",
    "          'close_low',\n",
    "          'close_open',\n",
    "          'gap',\n",
    "          'vol_change',\n",
    "          'oi_change',\n",
    "          'efficiency_10d',\n",
    "          'volatility',\n",
    "          'skewness',\n",
    "          'up_break',\n",
    "          'down_break',\n",
    "          'weekly_return',\n",
    "          'momentum_1m', \n",
    "          'label']\n",
    "cu = cu.loc[:, select]\n",
    "cu.dropna(inplace=True)"
   ]
  },
  {
   "cell_type": "code",
   "execution_count": 4,
   "metadata": {},
   "outputs": [
    {
     "data": {
      "text/plain": [
       "(1901, 15)"
      ]
     },
     "execution_count": 4,
     "metadata": {},
     "output_type": "execute_result"
    }
   ],
   "source": [
    "cu.shape"
   ]
  },
  {
   "cell_type": "code",
   "execution_count": 5,
   "metadata": {},
   "outputs": [],
   "source": [
    "def gen(x_data, y_data, lookback, min_index, max_index, batch_size=128):\n",
    "    i = min_index\n",
    "    while True:\n",
    "        if i + batch_size > max_index:\n",
    "            i = min_index #在达到结尾时将i设置为初始点，从而可以一直迭代下去\n",
    "        rows = np.arange(i-lookback, min(i - lookback + batch_size, max_index))\n",
    "        i += len(rows)\n",
    "        samples = np.zeros((len(rows), lookback, x_data.shape[-1])) #一个批量的样本\n",
    "        targets = np.zeros((len(rows), )) #一个批量的目标\n",
    "        for j, row in enumerate(rows):\n",
    "            samples[j] = x_data.iloc[row : row + lookback, :] #选取前lookback日至当前日的特征\n",
    "            targets[j] = y_data[row] #需要预测的目标\n",
    "        yield samples, targets"
   ]
  },
  {
   "cell_type": "code",
   "execution_count": 6,
   "metadata": {},
   "outputs": [],
   "source": [
    "lookback = 240\n",
    "batch_size = 128\n",
    "valid_size = 200\n",
    "train_size = len(cu) - batch_size - valid_size\n",
    "\n",
    "x_data = cu.iloc[:, :-1]\n",
    "mean = x_data.iloc[:train_size, :].mean(0)\n",
    "std = x_data.iloc[:train_size, :].std(0)\n",
    "\n",
    "x_data -= mean #标准化\n",
    "x_data /= std\n",
    "\n",
    "y_data = cu.iloc[:, -1]\n",
    "y_data.where(y_data == 1, 0.0, inplace=True)#one-hot编码"
   ]
  },
  {
   "cell_type": "code",
   "execution_count": 7,
   "metadata": {},
   "outputs": [],
   "source": [
    "#生成训练集、验证集、测试集的生成器\n",
    "train_gen = gen(x_data, y_data, lookback=lookback, \n",
    "                min_index=lookback, max_index=train_size, batch_size=batch_size)\n",
    "valid_gen = gen(x_data, y_data, lookback=lookback, \n",
    "              min_index=train_size, max_index=train_size + valid_size, batch_size=batch_size)\n",
    "test_gen = gen(x_data, y_data, lookback=lookback, \n",
    "               min_index=train_size + valid_size, max_index=len(x_data), batch_size=batch_size)"
   ]
  },
  {
   "cell_type": "code",
   "execution_count": 8,
   "metadata": {},
   "outputs": [
    {
     "name": "stdout",
     "output_type": "stream",
     "text": [
      "train steps: 10, \n",
      "valid steps: 1, \n",
      "test steps: 1\n"
     ]
    }
   ],
   "source": [
    "#移动的步数\n",
    "train_steps = (train_size - lookback) // batch_size\n",
    "valid_steps = valid_size // batch_size\n",
    "test_steps = (len(x_data) - train_size - valid_size) // batch_size\n",
    "print('train steps: %d, \\nvalid steps: %d, \\ntest steps: %d' % \n",
    "      (train_steps, valid_steps, test_steps))"
   ]
  },
  {
   "cell_type": "code",
   "execution_count": 23,
   "metadata": {},
   "outputs": [],
   "source": [
    "from keras import Sequential\n",
    "from keras.layers import LSTM, Dense\n",
    "from keras.regularizers import l1_l2"
   ]
  },
  {
   "cell_type": "code",
   "execution_count": 10,
   "metadata": {},
   "outputs": [],
   "source": [
    "from keras.initializers import constant"
   ]
  },
  {
   "cell_type": "code",
   "execution_count": 85,
   "metadata": {},
   "outputs": [],
   "source": [
    "#使用LSTM,加入了L2正则化\n",
    "def build_model():\n",
    "    model = Sequential()\n",
    "    model.add(LSTM(64, kernel_regularizer=l1_l2(0, 0.01), return_sequences=True, \n",
    "                   input_shape=(lookback, x_data.shape[-1])))\n",
    "    model.add(LSTM(64, kernel_regularizer=l1_l2(0, 0.01), return_sequences=True))\n",
    "    model.add(LSTM(32, kernel_regularizer=l1_l2(0, 0.01), return_sequences=True))\n",
    "    model.add(LSTM(16, kernel_regularizer=l1_l2(0, 0.01)))\n",
    "    model.add(Dense(1, activation='sigmoid'))\n",
    "    model.compile(optimizer='rmsprop', loss='binary_crossentropy', metrics=['accuracy'])\n",
    "    return model"
   ]
  },
  {
   "cell_type": "code",
   "execution_count": 86,
   "metadata": {
    "scrolled": true
   },
   "outputs": [
    {
     "name": "stdout",
     "output_type": "stream",
     "text": [
      "Epoch 1/20\n",
      "11/11 [==============================] - 24s 2s/step - loss: 2.8466 - acc: 0.4986 - val_loss: 2.5183 - val_acc: 0.5000\n",
      "Epoch 2/20\n",
      "11/11 [==============================] - 12s 1s/step - loss: 2.3315 - acc: 0.5156 - val_loss: 2.1319 - val_acc: 0.5000\n",
      "Epoch 3/20\n",
      "11/11 [==============================] - 12s 1s/step - loss: 1.9888 - acc: 0.5249 - val_loss: 1.8306 - val_acc: 0.5078\n",
      "Epoch 4/20\n",
      "11/11 [==============================] - 12s 1s/step - loss: 1.7141 - acc: 0.5277 - val_loss: 1.5833 - val_acc: 0.5234\n",
      "Epoch 5/20\n",
      "11/11 [==============================] - 12s 1s/step - loss: 1.4877 - acc: 0.5291 - val_loss: 1.3792 - val_acc: 0.5234\n",
      "Epoch 6/20\n",
      "11/11 [==============================] - 11s 1s/step - loss: 1.3015 - acc: 0.5263 - val_loss: 1.2125 - val_acc: 0.5156\n",
      "Epoch 7/20\n",
      "11/11 [==============================] - 12s 1s/step - loss: 1.1505 - acc: 0.5220 - val_loss: 1.0785 - val_acc: 0.5156\n",
      "Epoch 8/20\n",
      "11/11 [==============================] - 12s 1s/step - loss: 1.0303 - acc: 0.5178 - val_loss: 0.9729 - val_acc: 0.5078\n",
      "Epoch 9/20\n",
      "11/11 [==============================] - 12s 1s/step - loss: 0.9366 - acc: 0.5220 - val_loss: 0.8913 - val_acc: 0.5156\n",
      "Epoch 10/20\n",
      "11/11 [==============================] - 13s 1s/step - loss: 0.8653 - acc: 0.5270 - val_loss: 0.8285 - val_acc: 0.5859\n",
      "Epoch 11/20\n",
      "11/11 [==============================] - 11s 1s/step - loss: 0.8132 - acc: 0.5270 - val_loss: 0.7846 - val_acc: 0.5859\n",
      "Epoch 12/20\n",
      "11/11 [==============================] - 11s 1s/step - loss: 0.7755 - acc: 0.5270 - val_loss: 0.7540 - val_acc: 0.5781\n",
      "Epoch 13/20\n",
      "11/11 [==============================] - 12s 1s/step - loss: 0.7524 - acc: 0.5348 - val_loss: 0.7357 - val_acc: 0.5547\n",
      "Epoch 14/20\n",
      "11/11 [==============================] - 12s 1s/step - loss: 0.7344 - acc: 0.5355 - val_loss: 0.7295 - val_acc: 0.4531\n",
      "Epoch 15/20\n",
      "11/11 [==============================] - 12s 1s/step - loss: 0.7202 - acc: 0.5369 - val_loss: 0.7121 - val_acc: 0.5469\n",
      "Epoch 16/20\n",
      "11/11 [==============================] - 11s 1s/step - loss: 0.7138 - acc: 0.5142 - val_loss: 0.7095 - val_acc: 0.5391\n",
      "Epoch 17/20\n",
      "11/11 [==============================] - 11s 1s/step - loss: 0.7069 - acc: 0.5213 - val_loss: 0.7056 - val_acc: 0.5234\n",
      "Epoch 18/20\n",
      "11/11 [==============================] - 12s 1s/step - loss: 0.7027 - acc: 0.5185 - val_loss: 0.7011 - val_acc: 0.4844\n",
      "Epoch 19/20\n",
      "11/11 [==============================] - 11s 1s/step - loss: 0.6995 - acc: 0.4986 - val_loss: 0.6981 - val_acc: 0.4844\n",
      "Epoch 20/20\n",
      "11/11 [==============================] - 11s 1s/step - loss: 0.6970 - acc: 0.5092 - val_loss: 0.6956 - val_acc: 0.5000\n"
     ]
    }
   ],
   "source": [
    "model = build_model()\n",
    "history = model.fit_generator(train_gen, steps_per_epoch=train_steps, epochs=20, \n",
    "                    validation_data=valid_gen, validation_steps=valid_steps)"
   ]
  },
  {
   "cell_type": "code",
   "execution_count": 87,
   "metadata": {},
   "outputs": [
    {
     "data": {
      "text/plain": [
       "<matplotlib.axes._subplots.AxesSubplot at 0x18f177b2f28>"
      ]
     },
     "execution_count": 87,
     "metadata": {},
     "output_type": "execute_result"
    },
    {
     "data": {
      "image/png": "[encoded data removed]",
      "text/plain": [
       "<Figure size 432x288 with 1 Axes>"
      ]
     },
     "metadata": {
      "needs_background": "light"
     },
     "output_type": "display_data"
    }
   ],
   "source": [
    "pd.Series(history.history['val_acc']).plot() #在预测正确率上比FNN提高了不少了"
   ]
  },
  {
   "cell_type": "code",
   "execution_count": 75,
   "metadata": {},
   "outputs": [],
   "source": [
    "#将训练集和验证集合并为训练集\n",
    "train_size = len(cu) - batch_size\n",
    "\n",
    "x_data = cu.iloc[:, :-1]\n",
    "mean = x_data.iloc[:train_size, :].mean(0)\n",
    "std = x_data.iloc[:train_size, :].std(0)\n",
    "\n",
    "x_data -= mean\n",
    "x_data /= std\n",
    "\n",
    "train_gen = gen(x_data, y_data, lookback=lookback, \n",
    "                min_index=lookback, max_index=train_size, batch_size=batch_size)\n",
    "train_steps = (train_size - lookback) // batch_size"
   ]
  },
  {
   "cell_type": "code",
   "execution_count": 101,
   "metadata": {
    "scrolled": true
   },
   "outputs": [
    {
     "name": "stdout",
     "output_type": "stream",
     "text": [
      "Epoch 1/15\n",
      "11/11 [==============================] - 25s 2s/step - loss: 2.8208 - acc: 0.5043\n",
      "Epoch 2/15\n",
      "11/11 [==============================] - 13s 1s/step - loss: 2.3115 - acc: 0.5291\n",
      "Epoch 3/15\n",
      "11/11 [==============================] - 12s 1s/step - loss: 1.9727 - acc: 0.5298\n",
      "Epoch 4/15\n",
      "11/11 [==============================] - 13s 1s/step - loss: 1.7013 - acc: 0.5320\n",
      "Epoch 5/15\n",
      "11/11 [==============================] - 13s 1s/step - loss: 1.4780 - acc: 0.5355\n",
      "Epoch 6/15\n",
      "11/11 [==============================] - 13s 1s/step - loss: 1.2946 - acc: 0.5305\n",
      "Epoch 7/15\n",
      "11/11 [==============================] - 12s 1s/step - loss: 1.1458 - acc: 0.5312\n",
      "Epoch 8/15\n",
      "11/11 [==============================] - 14s 1s/step - loss: 1.0274 - acc: 0.5312\n",
      "Epoch 9/15\n",
      "11/11 [==============================] - 12s 1s/step - loss: 0.9349 - acc: 0.5270\n",
      "Epoch 10/15\n",
      "11/11 [==============================] - 11s 1s/step - loss: 0.8652 - acc: 0.5234\n",
      "Epoch 11/15\n",
      "11/11 [==============================] - 11s 1s/step - loss: 0.8138 - acc: 0.5291\n",
      "Epoch 12/15\n",
      "11/11 [==============================] - 11s 1s/step - loss: 0.7758 - acc: 0.5227\n",
      "Epoch 13/15\n",
      "11/11 [==============================] - 12s 1s/step - loss: 0.7513 - acc: 0.5355\n",
      "Epoch 14/15\n",
      "11/11 [==============================] - 11s 1s/step - loss: 0.7340 - acc: 0.5199\n",
      "Epoch 15/15\n",
      "11/11 [==============================] - 11s 1s/step - loss: 0.7199 - acc: 0.5320\n"
     ]
    },
    {
     "data": {
      "text/plain": [
       "<keras.callbacks.History at 0x18f0d08a5f8>"
      ]
     },
     "execution_count": 101,
     "metadata": {},
     "output_type": "execute_result"
    },
    {
     "data": {
      "text/plain": [
       "[0.718576967716217, 0.484375]"
      ]
     },
     "execution_count": 101,
     "metadata": {},
     "output_type": "execute_result"
    }
   ],
   "source": [
    "model = build_model()\n",
    "model.fit_generator(train_gen, steps_per_epoch=train_steps, epochs=15)\n",
    "model.evaluate_generator(test_gen, steps=test_steps)"
   ]
  },
  {
   "cell_type": "code",
   "execution_count": 102,
   "metadata": {},
   "outputs": [],
   "source": [
    "y_predict = model.predict_generator(test_gen, steps=test_steps)\n",
    "y_predict = pd.DataFrame(np.where(y_predict >= 0.5, 1, 0), \n",
    "                         index=y_data.index[-batch_size:], columns=['predict'])\n",
    "records = pd.concat([y_data[-batch_size:], y_predict], axis=1)\n",
    "records['PL_label'] = np.where(records.label == records.predict, 1, -1)\n",
    "records['PL_label'] = records['PL_label'].shift(1) #将损益标签向未来移动一个交易日\n",
    "records.dropna(inplace=True)"
   ]
  },
  {
   "cell_type": "code",
   "execution_count": 103,
   "metadata": {},
   "outputs": [],
   "source": [
    "with pd.HDFStore('E:/data/futures.h5') as store:\n",
    "        quote = store['quote']\n",
    "cu_data = quote.xs('CU', level=1)"
   ]
  },
  {
   "cell_type": "code",
   "execution_count": 104,
   "metadata": {},
   "outputs": [],
   "source": [
    "import sys\n",
    "sys.path.append(r'C:\\Users\\54326\\Python_Code\\self\\paper')\n",
    "\n",
    "import BackTest as bt"
   ]
  },
  {
   "cell_type": "code",
   "execution_count": 105,
   "metadata": {},
   "outputs": [],
   "source": [
    "nav = bt.get_nav(records['PL_label'], cu_data['pchg'], trans_cost=0.0002)"
   ]
  },
  {
   "cell_type": "code",
   "execution_count": 106,
   "metadata": {},
   "outputs": [
    {
     "data": {
      "image/png": "[encoded data removed]",
      "text/plain": [
       "<Figure size 792x432 with 2 Axes>"
      ]
     },
     "metadata": {
      "needs_background": "light"
     },
     "output_type": "display_data"
    }
   ],
   "source": [
    "bt.nav_plot(nav, fig_size=(11, 6)) "
   ]
  },
  {
   "cell_type": "markdown",
   "metadata": {},
   "source": [
    "#### 在准确率低于0.5的情况下，产生了还不错的收益率？\n",
    "#### 由于预测结果不稳定，回测结果不是很可靠，可能是因为对于收益率高的交易日预测较为准确\n",
    "#### 因此尝试一下回归模型"
   ]
  },
  {
   "cell_type": "code",
   "execution_count": 118,
   "metadata": {},
   "outputs": [],
   "source": [
    "pchg = cu_data['pchg']\n",
    "pchg = pchg.shift(-1)\n",
    "pchg = x_data.join(pchg)['pchg']"
   ]
  },
  {
   "cell_type": "code",
   "execution_count": 123,
   "metadata": {},
   "outputs": [],
   "source": [
    "lookback = 240\n",
    "batch_size = 128\n",
    "valid_size = 200\n",
    "train_size = len(cu) - batch_size - valid_size\n",
    "\n",
    "x_data = cu.iloc[:, :-1]\n",
    "mean = x_data.iloc[:train_size, :].mean(0)\n",
    "std = x_data.iloc[:train_size, :].std(0)\n",
    "\n",
    "x_data -= mean #标准化\n",
    "x_data /= std"
   ]
  },
  {
   "cell_type": "code",
   "execution_count": 126,
   "metadata": {},
   "outputs": [],
   "source": [
    "train_gen = gen(x_data, pchg, lookback=lookback, \n",
    "                min_index=lookback, max_index=train_size, batch_size=batch_size)\n",
    "valid_gen = gen(x_data, pchg, lookback=lookback, \n",
    "              min_index=train_size, max_index=train_size + valid_size, batch_size=batch_size)\n",
    "test_gen = gen(x_data, pchg, lookback=lookback, \n",
    "               min_index=train_size + valid_size, max_index=len(x_data), batch_size=batch_size)"
   ]
  },
  {
   "cell_type": "code",
   "execution_count": 127,
   "metadata": {},
   "outputs": [
    {
     "name": "stdout",
     "output_type": "stream",
     "text": [
      "train steps: 10, \n",
      "valid steps: 1, \n",
      "test steps: 1\n"
     ]
    }
   ],
   "source": [
    "train_steps = (train_size - lookback) // batch_size\n",
    "valid_steps = valid_size // batch_size\n",
    "test_steps = (len(x_data) - train_size - valid_size) // batch_size\n",
    "print('train steps: %d, \\nvalid steps: %d, \\ntest steps: %d' % \n",
    "      (train_steps, valid_steps, test_steps))"
   ]
  },
  {
   "cell_type": "code",
   "execution_count": 128,
   "metadata": {},
   "outputs": [],
   "source": [
    "def build_model():\n",
    "    model = Sequential()\n",
    "    model.add(LSTM(64, kernel_regularizer=l1_l2(0, 0.01), return_sequences=True, \n",
    "                   input_shape=(lookback, x_data.shape[-1])))\n",
    "    model.add(LSTM(64, kernel_regularizer=l1_l2(0, 0.01), return_sequences=True))\n",
    "    model.add(LSTM(32, kernel_regularizer=l1_l2(0, 0.01), return_sequences=True))\n",
    "    model.add(LSTM(16, kernel_regularizer=l1_l2(0, 0.01)))\n",
    "    model.add(Dense(1, activation='sigmoid'))\n",
    "    model.compile(optimizer='rmsprop', loss='mse', metrics=['mae'])\n",
    "    return model"
   ]
  },
  {
   "cell_type": "code",
   "execution_count": 129,
   "metadata": {
    "scrolled": true
   },
   "outputs": [
    {
     "name": "stdout",
     "output_type": "stream",
     "text": [
      "Epoch 1/20\n",
      "10/10 [==============================] - 28s 3s/step - loss: 2.3464 - mean_absolute_error: 0.3631 - val_loss: 1.9192 - val_mean_absolute_error: 0.1100\n",
      "Epoch 2/20\n",
      "10/10 [==============================] - 11s 1s/step - loss: 1.7496 - mean_absolute_error: 0.0921 - val_loss: 1.5609 - val_mean_absolute_error: 0.0770\n",
      "Epoch 3/20\n",
      "10/10 [==============================] - 11s 1s/step - loss: 1.4269 - mean_absolute_error: 0.0684 - val_loss: 1.2723 - val_mean_absolute_error: 0.0602\n",
      "Epoch 4/20\n",
      "10/10 [==============================] - 11s 1s/step - loss: 1.1588 - mean_absolute_error: 0.0540 - val_loss: 1.0270 - val_mean_absolute_error: 0.0482\n",
      "Epoch 5/20\n",
      "10/10 [==============================] - 11s 1s/step - loss: 0.9301 - mean_absolute_error: 0.0434 - val_loss: 0.8178 - val_mean_absolute_error: 0.0389\n",
      "Epoch 6/20\n",
      "10/10 [==============================] - 11s 1s/step - loss: 0.7359 - mean_absolute_error: 0.0351 - val_loss: 0.6414 - val_mean_absolute_error: 0.0315\n",
      "Epoch 7/20\n",
      "10/10 [==============================] - 12s 1s/step - loss: 0.5732 - mean_absolute_error: 0.0284 - val_loss: 0.4949 - val_mean_absolute_error: 0.0256\n",
      "Epoch 8/20\n",
      "10/10 [==============================] - 11s 1s/step - loss: 0.4391 - mean_absolute_error: 0.0232 - val_loss: 0.3754 - val_mean_absolute_error: 0.0210\n",
      "Epoch 9/20\n",
      "10/10 [==============================] - 11s 1s/step - loss: 0.3305 - mean_absolute_error: 0.0192 - val_loss: 0.2797 - val_mean_absolute_error: 0.0174\n",
      "Epoch 10/20\n",
      "10/10 [==============================] - 11s 1s/step - loss: 0.2445 - mean_absolute_error: 0.0162 - val_loss: 0.2048 - val_mean_absolute_error: 0.0146\n",
      "Epoch 11/20\n",
      "10/10 [==============================] - 11s 1s/step - loss: 0.1778 - mean_absolute_error: 0.0141 - val_loss: 0.1475 - val_mean_absolute_error: 0.0125\n",
      "Epoch 12/20\n",
      "10/10 [==============================] - 12s 1s/step - loss: 0.1273 - mean_absolute_error: 0.0127 - val_loss: 0.1048 - val_mean_absolute_error: 0.0112\n",
      "Epoch 13/20\n",
      "10/10 [==============================] - 12s 1s/step - loss: 0.0900 - mean_absolute_error: 0.0118 - val_loss: 0.0737 - val_mean_absolute_error: 0.0103\n",
      "Epoch 14/20\n",
      "10/10 [==============================] - 11s 1s/step - loss: 0.0631 - mean_absolute_error: 0.0112 - val_loss: 0.0515 - val_mean_absolute_error: 0.0096\n",
      "Epoch 15/20\n",
      "10/10 [==============================] - 11s 1s/step - loss: 0.0555 - mean_absolute_error: 0.0498 - val_loss: 0.0396 - val_mean_absolute_error: 0.0165\n",
      "Epoch 16/20\n",
      "10/10 [==============================] - 11s 1s/step - loss: 0.0352 - mean_absolute_error: 0.0151 - val_loss: 0.0301 - val_mean_absolute_error: 0.0135\n",
      "Epoch 17/20\n",
      "10/10 [==============================] - 11s 1s/step - loss: 0.0267 - mean_absolute_error: 0.0136 - val_loss: 0.0226 - val_mean_absolute_error: 0.0124\n",
      "Epoch 18/20\n",
      "10/10 [==============================] - 11s 1s/step - loss: 0.0198 - mean_absolute_error: 0.0127 - val_loss: 0.0166 - val_mean_absolute_error: 0.0115\n",
      "Epoch 19/20\n",
      "10/10 [==============================] - 11s 1s/step - loss: 0.0144 - mean_absolute_error: 0.0121 - val_loss: 0.0118 - val_mean_absolute_error: 0.0107\n",
      "Epoch 20/20\n",
      "10/10 [==============================] - 14s 1s/step - loss: 0.0101 - mean_absolute_error: 0.0115 - val_loss: 0.0081 - val_mean_absolute_error: 0.0101\n"
     ]
    }
   ],
   "source": [
    "model = build_model()\n",
    "history = model.fit_generator(train_gen, steps_per_epoch=train_steps, epochs=20, \n",
    "                    validation_data=valid_gen, validation_steps=valid_steps)"
   ]
  },
  {
   "cell_type": "code",
   "execution_count": 134,
   "metadata": {},
   "outputs": [
    {
     "data": {
      "text/plain": [
       "<matplotlib.axes._subplots.AxesSubplot at 0x18f3078ffd0>"
      ]
     },
     "execution_count": 134,
     "metadata": {},
     "output_type": "execute_result"
    },
    {
     "data": {
      "image/png": "[encoded data removed]",
      "text/plain": [
       "<Figure size 432x288 with 1 Axes>"
      ]
     },
     "metadata": {
      "needs_background": "light"
     },
     "output_type": "display_data"
    }
   ],
   "source": [
    "pd.Series(history.history['val_mean_absolute_error']).plot()"
   ]
  },
  {
   "cell_type": "code",
   "execution_count": 133,
   "metadata": {},
   "outputs": [
    {
     "data": {
      "text/plain": [
       "dict_keys(['val_loss', 'val_mean_absolute_error', 'loss', 'mean_absolute_error'])"
      ]
     },
     "execution_count": 133,
     "metadata": {},
     "output_type": "execute_result"
    }
   ],
   "source": [
    "history.history.keys()"
   ]
  },
  {
   "cell_type": "code",
   "execution_count": 135,
   "metadata": {},
   "outputs": [],
   "source": [
    "#将训练集和验证集合并为训练集\n",
    "train_size = len(cu) - batch_size\n",
    "\n",
    "x_data = cu.iloc[:, :-1]\n",
    "mean = x_data.iloc[:train_size, :].mean(0)\n",
    "std = x_data.iloc[:train_size, :].std(0)\n",
    "\n",
    "x_data -= mean\n",
    "x_data /= std\n",
    "\n",
    "train_gen = gen(x_data, pchg, lookback=lookback, \n",
    "                min_index=lookback, max_index=train_size, batch_size=batch_size)\n",
    "train_steps = (train_size - lookback) // batch_size"
   ]
  },
  {
   "cell_type": "code",
   "execution_count": 136,
   "metadata": {
    "scrolled": true
   },
   "outputs": [
    {
     "name": "stdout",
     "output_type": "stream",
     "text": [
      "Epoch 1/15\n",
      "11/11 [==============================] - 26s 2s/step - loss: 2.2873 - mean_absolute_error: 0.3350\n",
      "Epoch 2/15\n",
      "11/11 [==============================] - 12s 1s/step - loss: 1.6834 - mean_absolute_error: 0.1264\n",
      "Epoch 3/15\n",
      "11/11 [==============================] - 13s 1s/step - loss: 1.3326 - mean_absolute_error: 0.0896\n",
      "Epoch 4/15\n",
      "11/11 [==============================] - 13s 1s/step - loss: 1.0496 - mean_absolute_error: 0.0695\n",
      "Epoch 5/15\n",
      "11/11 [==============================] - 12s 1s/step - loss: 0.8156 - mean_absolute_error: 0.0553\n",
      "Epoch 6/15\n",
      "11/11 [==============================] - 12s 1s/step - loss: 0.6232 - mean_absolute_error: 0.0442\n",
      "Epoch 7/15\n",
      "11/11 [==============================] - 12s 1s/step - loss: 0.4673 - mean_absolute_error: 0.0354\n",
      "Epoch 8/15\n",
      "11/11 [==============================] - 12s 1s/step - loss: 0.3435 - mean_absolute_error: 0.0289\n",
      "Epoch 9/15\n",
      "11/11 [==============================] - 12s 1s/step - loss: 0.2473 - mean_absolute_error: 0.0239\n",
      "Epoch 10/15\n",
      "11/11 [==============================] - 11s 1s/step - loss: 0.1745 - mean_absolute_error: 0.0199\n",
      "Epoch 11/15\n",
      "11/11 [==============================] - 14s 1s/step - loss: 0.1209 - mean_absolute_error: 0.0169\n",
      "Epoch 12/15\n",
      "11/11 [==============================] - 13s 1s/step - loss: 0.0826 - mean_absolute_error: 0.0146\n",
      "Epoch 13/15\n",
      "11/11 [==============================] - 15s 1s/step - loss: 0.0560 - mean_absolute_error: 0.0131\n",
      "Epoch 14/15\n",
      "11/11 [==============================] - 13s 1s/step - loss: 0.0378 - mean_absolute_error: 0.0119\n",
      "Epoch 15/15\n",
      "11/11 [==============================] - 16s 1s/step - loss: 0.0254 - mean_absolute_error: 0.0112\n"
     ]
    },
    {
     "data": {
      "text/plain": [
       "<keras.callbacks.History at 0x18f0e574dd8>"
      ]
     },
     "execution_count": 136,
     "metadata": {},
     "output_type": "execute_result"
    },
    {
     "data": {
      "text/plain": [
       "[0.02024017460644245, 0.010732457973062992]"
      ]
     },
     "execution_count": 136,
     "metadata": {},
     "output_type": "execute_result"
    }
   ],
   "source": [
    "model = build_model()\n",
    "model.fit_generator(train_gen, steps_per_epoch=train_steps, epochs=15)\n",
    "model.evaluate_generator(test_gen, steps=test_steps)"
   ]
  },
  {
   "cell_type": "code",
   "execution_count": 137,
   "metadata": {},
   "outputs": [],
   "source": [
    "y_predict = model.predict_generator(test_gen, steps=test_steps)\n",
    "y_predict = pd.DataFrame(np.where(y_predict > 0, 1, 0), #预测为正，则买入，负则卖出\n",
    "                         index=y_data.index[-batch_size:], columns=['predict'])\n",
    "records = pd.concat([y_data[-batch_size:], y_predict], axis=1)\n",
    "records['PL_label'] = np.where(records.label == records.predict, 1, -1)\n",
    "records['PL_label'] = records['PL_label'].shift(1) #将损益标签向未来移动一个交易日\n",
    "records.dropna(inplace=True)"
   ]
  },
  {
   "cell_type": "code",
   "execution_count": 138,
   "metadata": {},
   "outputs": [],
   "source": [
    "nav = bt.get_nav(records['PL_label'], cu_data['pchg'], trans_cost=0.0002)"
   ]
  },
  {
   "cell_type": "code",
   "execution_count": 139,
   "metadata": {},
   "outputs": [
    {
     "data": {
      "image/png": "[encoded data removed]",
      "text/plain": [
       "<Figure size 792x432 with 2 Axes>"
      ]
     },
     "metadata": {
      "needs_background": "light"
     },
     "output_type": "display_data"
    }
   ],
   "source": [
    "bt.nav_plot(nav, fig_size=(11, 6)) #与分类模型相比，回归模型略好一些"
   ]
  },
  {
   "cell_type": "code",
   "execution_count": null,
   "metadata": {},
   "outputs": [],
   "source": []
  }
 ],
 "metadata": {
  "kernelspec": {
   "display_name": "Python 3",
   "language": "python",
   "name": "python3"
  },
  "language_info": {
   "codemirror_mode": {
    "name": "ipython",
    "version": 3
   },
   "file_extension": ".py",
   "mimetype": "text/x-python",
   "name": "python",
   "nbconvert_exporter": "python",
   "pygments_lexer": "ipython3",
   "version": "3.6.8"
  }
 },
 "nbformat": 4,
 "nbformat_minor": 2
}
